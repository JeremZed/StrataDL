{
 "cells": [
  {
   "cell_type": "markdown",
   "id": "c931c8c8",
   "metadata": {},
   "source": [
    "# Exemple d'utilisation avec Ollama"
   ]
  },
  {
   "cell_type": "markdown",
   "id": "d62d2940",
   "metadata": {},
   "source": [
    "**Prérequis** : Avoir installé Ollama dans son environnement. \n",
    "\n",
    "CF : https://docs.ollama.com/linux"
   ]
  },
  {
   "cell_type": "code",
   "execution_count": null,
   "id": "e13a7d26",
   "metadata": {},
   "outputs": [],
   "source": [
    "from stratadl.core.provider.factory import get_provider"
   ]
  },
  {
   "cell_type": "code",
   "execution_count": null,
   "id": "1de43928",
   "metadata": {},
   "outputs": [],
   "source": [
    "ollama = get_provider(\"ollama\", {\"api_url\" : \"http://localhost:11434\", \"model\" : \"llama2\" })"
   ]
  },
  {
   "cell_type": "code",
   "execution_count": null,
   "id": "575746a2",
   "metadata": {},
   "outputs": [],
   "source": [
    "ollama.version()"
   ]
  },
  {
   "cell_type": "code",
   "execution_count": null,
   "id": "f25292ed",
   "metadata": {},
   "outputs": [],
   "source": [
    "ollama.list_models()"
   ]
  },
  {
   "cell_type": "code",
   "execution_count": null,
   "id": "9bdb2c3f",
   "metadata": {},
   "outputs": [],
   "source": [
    "ollama.model_info(verbose=False)"
   ]
  },
  {
   "cell_type": "code",
   "execution_count": null,
   "id": "d8967b82",
   "metadata": {},
   "outputs": [],
   "source": [
    "ollama.download('llama3.2')"
   ]
  },
  {
   "cell_type": "code",
   "execution_count": null,
   "id": "b058da79",
   "metadata": {},
   "outputs": [],
   "source": [
    "ollama.set_model(\"llama3.2\")"
   ]
  },
  {
   "cell_type": "code",
   "execution_count": null,
   "id": "12ca2349",
   "metadata": {},
   "outputs": [],
   "source": [
    "result = ollama.generate('Hello', stream=True)\n",
    "for chunk in result:\n",
    "    print(chunk.get('response', ''), end=\"\", flush=True)\n",
    "\n",
    "print(\"\\n\")\n",
    "print(\"Réponse complète:\", result.get_full_response())\n",
    "print(\"Métadonnées:\", result.get_metadata())\n",
    "print(\"Statistiques:\", result.get_stats())"
   ]
  },
  {
   "cell_type": "code",
   "execution_count": null,
   "id": "0bb14508",
   "metadata": {},
   "outputs": [],
   "source": [
    "history = [\n",
    "    { \"role\" : \"user\", \"content\" : \"Hello!\"},\n",
    "    { \"role\" : \"assistant\", \"content\" : \"How can I assist you today?\"},\n",
    "    { \"role\" : \"user\", \"content\" : \"How are you?\"},\n",
    "]\n",
    "\n",
    "result = ollama.chat(history, stream=True)\n",
    "for chunk in result:\n",
    "    print(chunk.get('message').get('content', ''), end=\"\", flush=True)\n",
    "\n",
    "print(\"\\n\")\n",
    "print(\"Réponse complète:\", result.get_full_response())\n",
    "print(\"Métadonnées:\", result.get_metadata())\n",
    "print(\"Statistiques:\", result.get_stats())"
   ]
  },
  {
   "cell_type": "code",
   "execution_count": null,
   "id": "a863c159",
   "metadata": {},
   "outputs": [],
   "source": [
    "ollama.delete('llama2')"
   ]
  }
 ],
 "metadata": {
  "kernelspec": {
   "display_name": "stratadl",
   "language": "python",
   "name": "python3"
  },
  "language_info": {
   "codemirror_mode": {
    "name": "ipython",
    "version": 3
   },
   "file_extension": ".py",
   "mimetype": "text/x-python",
   "name": "python",
   "nbconvert_exporter": "python",
   "pygments_lexer": "ipython3",
   "version": "3.12.10"
  }
 },
 "nbformat": 4,
 "nbformat_minor": 5
}
