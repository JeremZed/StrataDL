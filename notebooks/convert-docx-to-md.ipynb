{
 "cells": [
  {
   "cell_type": "markdown",
   "id": "a37fcbdb",
   "metadata": {},
   "source": [
    "# Exemple d'utilisation"
   ]
  },
  {
   "cell_type": "code",
   "execution_count": null,
   "id": "8a508f71",
   "metadata": {},
   "outputs": [],
   "source": [
    "from stratadl.core.ingestion.file.word import WordDocumentIngestor"
   ]
  },
  {
   "cell_type": "code",
   "execution_count": null,
   "id": "66c48501",
   "metadata": {},
   "outputs": [],
   "source": [
    "pathfile = \"../datas/raw/demo.docx\""
   ]
  },
  {
   "cell_type": "code",
   "execution_count": null,
   "id": "6fe6c61f",
   "metadata": {},
   "outputs": [],
   "source": [
    "ingestor = WordDocumentIngestor(file_path=pathfile, output_dir=\"../datas/preprocessing/ingestions\")"
   ]
  },
  {
   "cell_type": "code",
   "execution_count": null,
   "id": "35c54cb4",
   "metadata": {},
   "outputs": [],
   "source": [
    "ingestor.convert()"
   ]
  },
  {
   "cell_type": "code",
   "execution_count": null,
   "id": "6437a9c9",
   "metadata": {},
   "outputs": [],
   "source": [
    "ingestor.save()"
   ]
  }
 ],
 "metadata": {
  "kernelspec": {
   "display_name": "stratadl",
   "language": "python",
   "name": "python3"
  },
  "language_info": {
   "codemirror_mode": {
    "name": "ipython",
    "version": 3
   },
   "file_extension": ".py",
   "mimetype": "text/x-python",
   "name": "python",
   "nbconvert_exporter": "python",
   "pygments_lexer": "ipython3",
   "version": "3.12.10"
  }
 },
 "nbformat": 4,
 "nbformat_minor": 5
}
