{
 "cells": [
  {
   "cell_type": "markdown",
   "id": "9467656d",
   "metadata": {},
   "source": [
    "# Exemple d'utilisation du scraper"
   ]
  },
  {
   "cell_type": "code",
   "execution_count": null,
   "id": "8d6239fe",
   "metadata": {},
   "outputs": [],
   "source": [
    "from stratadl.core.ingestion.scraper import ScrapingConfig, BasicScraper"
   ]
  },
  {
   "cell_type": "markdown",
   "id": "53335810",
   "metadata": {},
   "source": [
    "## Scrape d'une page\n",
    "\n",
    "Récupération d'un contenu précis sur une page et d'une liste de liens"
   ]
  },
  {
   "cell_type": "code",
   "execution_count": null,
   "id": "63564183",
   "metadata": {},
   "outputs": [],
   "source": [
    "config = ScrapingConfig(\n",
    "\n",
    "    # 2 secondes entre chaque requête\n",
    "    delay=2.0,\n",
    "\n",
    "    # personnalisation de l'user-agent pour simuler un navigateur\n",
    "    user_agent=\"Mozilla/5.0 (Windows NT 10.0; Win64; x64) AppleWebKit/537.36 (KHTML, like Gecko) Chrome/141.0.0.0 Safari/537.36 Edg/141.0.0.0\",\n",
    "\n",
    "    # extraction des liens uniquement depuis le contenu ciblé\n",
    "    extract_links_from_content_only=True,\n",
    "\n",
    "    # sélecteur CSS pour cibler le contenu principal\n",
    "    content_selector=\"section.taxonomy-contents\",\n",
    "\n",
    "    # possibilité d'ajouter des sélecteurs CSS pour cibler les liens supplémentaires\n",
    "    link_selectors = ['.pagination'],\n",
    "\n",
    "    # filtrage des URLs à scraper\n",
    "    allowed_url_patterns=[\n",
    "        r\"/internet/intelligence-artificielle/.*\",\n",
    "    ],\n",
    "\n",
    "    # types de contenu à extraire (texte uniquement ici) , autres valeurs: 'text', 'images'\n",
    "    content_types=['text']\n",
    ")\n"
   ]
  },
  {
   "cell_type": "code",
   "execution_count": null,
   "id": "8126c087",
   "metadata": {},
   "outputs": [],
   "source": [
    "url = \"https://www.franceinfo.fr/internet/intelligence-artificielle/\"\n",
    "\n",
    "scraper = BasicScraper(config)\n",
    "\n",
    "print(\"\\n=== Scraping d'une seule page ===\")\n",
    "content = scraper.scrape_page(url)\n"
   ]
  },
  {
   "cell_type": "code",
   "execution_count": null,
   "id": "c650c9cf",
   "metadata": {},
   "outputs": [],
   "source": [
    "if content:\n",
    "    print(f\"Titre: {content.title}\")\n",
    "    print(f\"Nombre de liens trouvés: {len(content.links)}\")\n",
    "\n",
    "    for link in content.links:\n",
    "        print(f\"{link}\")\n",
    "\n",
    "    print(f\"Contenu extrait:\\n{content.text}\")"
   ]
  },
  {
   "cell_type": "markdown",
   "id": "198b9b47",
   "metadata": {},
   "source": [
    "## Scrape récursif\n",
    "\n",
    "Permet de suivre les liens présents et parcourir le site internet."
   ]
  },
  {
   "cell_type": "code",
   "execution_count": null,
   "id": "de998d35",
   "metadata": {},
   "outputs": [],
   "source": [
    "config = ScrapingConfig(\n",
    "    # 2 secondes entre chaque requête\n",
    "    delay=2.0,\n",
    "\n",
    "    # profondeur maximale de scraping\n",
    "    max_depth=2,\n",
    "\n",
    "    # nombre maximal de pages à scraper\n",
    "    max_pages=5,\n",
    "    # user_agent personnalisé pour simuler un navigateur\n",
    "    user_agent=\"Mozilla/5.0 (Windows NT 10.0; Win64; x64) AppleWebKit/537.36 (KHTML, like Gecko) Chrome/141.0.0.0 Safari/537.36 Edg/141.0.0.0\",\n",
    "\n",
    "    # extraction des liens uniquement depuis le contenu ciblé\n",
    "    extract_links_from_content_only=True,\n",
    "\n",
    "    # sélecteur CSS pour cibler le contenu principal\n",
    "    content_selector=\"section.taxonomy-contents\",\n",
    "    # possibilité d'ajouter des sélecteurs CSS pour cibler les liens supplémentaires\n",
    "    link_selectors = ['.pagination'],\n",
    "    # filtrage des URLs à scraper\n",
    "    allowed_url_patterns=[\n",
    "        r\"/internet/intelligence-artificielle/.*\",\n",
    "    ],\n",
    "    # types de contenu à extraire (texte et images ici)\n",
    "    content_types=['text', 'images'],\n",
    "    # sauvegarder les URLs visitées\n",
    "    save_urls=True\n",
    ")"
   ]
  },
  {
   "cell_type": "code",
   "execution_count": null,
   "id": "22ae6bd5",
   "metadata": {},
   "outputs": [],
   "source": [
    "url = \"https://www.franceinfo.fr/internet/intelligence-artificielle/\"\n",
    "scraper = BasicScraper(config)\n",
    "\n",
    "print(\"\\n=== Deep scraping ===\")\n",
    "results, to_visit = scraper.deep_scrape(url, same_domain_only=True)\n"
   ]
  },
  {
   "cell_type": "markdown",
   "id": "f4a3960f",
   "metadata": {},
   "source": [
    "Liste des urls récupérés mais non visités"
   ]
  },
  {
   "cell_type": "code",
   "execution_count": null,
   "id": "10f7642c",
   "metadata": {},
   "outputs": [],
   "source": [
    "to_visit"
   ]
  },
  {
   "cell_type": "markdown",
   "id": "0f793d83",
   "metadata": {},
   "source": [
    "Affichage des éléments scrapés"
   ]
  },
  {
   "cell_type": "code",
   "execution_count": null,
   "id": "1d205cf8",
   "metadata": {},
   "outputs": [],
   "source": [
    "print(f\"Total de pages scrapées: {len(results)}\")\n",
    "for content in results:\n",
    "    print(f\"  Profondeur {content.depth}: {content.url}\")\n",
    "    print(f\"  Content : \\n {content.text}\")\n",
    "    print(f\"   Images ({len(content.images)}) :\")\n",
    "    for img in content.images:\n",
    "        print(img)\n",
    "    print(\"----------\")"
   ]
  },
  {
   "cell_type": "markdown",
   "id": "b4022552",
   "metadata": {},
   "source": [
    "Dans la configuration on a indiqué une sauvegarde des urls, titre et texte scrapé dans des csv.\n",
    "\n",
    "Les CSV sont présents dans un dossier scraped_csv créés à la racine du dossier notebooks.\n",
    "\n",
    "Par exemple :\n",
    "```bash\n",
    "notebooks/\n",
    "├── scraped_csv\n",
    "│   ├── images_71dca383.csv\n",
    "│   ├── pages_71dca383.csv\n",
    "│   └── text_71dca383.csv\n",
    "└── scraper.ipynb\n",
    "```"
   ]
  }
 ],
 "metadata": {
  "kernelspec": {
   "display_name": "stratadl",
   "language": "python",
   "name": "python3"
  },
  "language_info": {
   "codemirror_mode": {
    "name": "ipython",
    "version": 3
   },
   "file_extension": ".py",
   "mimetype": "text/x-python",
   "name": "python",
   "nbconvert_exporter": "python",
   "pygments_lexer": "ipython3",
   "version": "3.12.10"
  }
 },
 "nbformat": 4,
 "nbformat_minor": 5
}
