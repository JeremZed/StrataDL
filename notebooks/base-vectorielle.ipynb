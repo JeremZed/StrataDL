{
 "cells": [
  {
   "cell_type": "markdown",
   "id": "c7cc3224",
   "metadata": {},
   "source": [
    "# Exemple d'utilisation d'insertion de données dans une base vectorielle"
   ]
  },
  {
   "cell_type": "code",
   "execution_count": null,
   "id": "d2c5e7aa",
   "metadata": {},
   "outputs": [],
   "source": [
    "from stratadl.core.vectorstore.factory import get_vectorstore\n",
    "from stratadl.core.embedding.factory import get_embedding_model"
   ]
  },
  {
   "cell_type": "code",
   "execution_count": null,
   "id": "d2a3c43d",
   "metadata": {},
   "outputs": [],
   "source": [
    "documents = [\n",
    "    \"Les réseaux de neurones convolutifs sont efficaces pour la vision.\",\n",
    "    \"Les transformers ont révolutionné le traitement du langage naturel.\",\n",
    "    \"L'apprentissage par renforcement est utilisé dans les jeux et la robotique.\"\n",
    "]"
   ]
  },
  {
   "cell_type": "code",
   "execution_count": null,
   "id": "d8ccc2cd",
   "metadata": {},
   "outputs": [],
   "source": [
    "store = get_vectorstore(\"chromadb\", collection_name=\"test\")"
   ]
  },
  {
   "cell_type": "code",
   "execution_count": null,
   "id": "7c54448f",
   "metadata": {},
   "outputs": [],
   "source": [
    "embedder = get_embedding_model(backend=\"sentence_transformer\", model_name=\"all-MiniLM-L6-v2\")"
   ]
  },
  {
   "cell_type": "code",
   "execution_count": null,
   "id": "672d7590",
   "metadata": {},
   "outputs": [],
   "source": [
    "embeddings = embedder.encode(documents)\n",
    "\n",
    "for i, (text, embedding) in enumerate(zip(documents, embeddings)):\n",
    "    store.add_documents([{\n",
    "        \"id\": str(i),\n",
    "        \"content\": text,\n",
    "        \"embedding\": embedding.tolist(),\n",
    "        \"metadata\": {\"source\": \"demo\", \"index\": i}\n",
    "    }])\n",
    "\n",
    "print(f\"Total documents: {store.count()}\")"
   ]
  },
  {
   "cell_type": "code",
   "execution_count": null,
   "id": "8fbba424",
   "metadata": {},
   "outputs": [],
   "source": [
    "nb_docs = store.count()\n",
    "\n",
    "print(f\" Nombre de documents dans le vector store: {nb_docs}\")"
   ]
  },
  {
   "cell_type": "code",
   "execution_count": null,
   "id": "98505238",
   "metadata": {},
   "outputs": [],
   "source": [
    "query = \"Quels modèles sont utilisés pour le traitement du langage naturel?\"\n",
    "query_embedding = embedder.encode(query)[0]\n",
    "\n",
    "results = store.query(\n",
    "    query_vector = query_embedding.tolist(),\n",
    "    top_k=2\n",
    ")\n",
    "\n",
    "print(results)"
   ]
  },
  {
   "cell_type": "code",
   "execution_count": null,
   "id": "0cc63baa",
   "metadata": {},
   "outputs": [],
   "source": [
    "store.update(\"1\", {\"content\" : \"Les CNN sont utilisés en vision par ordinateur.\", \"embedding\": embedder.encode([\"Les CNN sont utilisés en vision par ordinateur.\"])[0]})"
   ]
  },
  {
   "cell_type": "code",
   "execution_count": null,
   "id": "b839f182",
   "metadata": {},
   "outputs": [],
   "source": [
    "store.get_by_id(\"1\")"
   ]
  },
  {
   "cell_type": "code",
   "execution_count": null,
   "id": "1747daa7",
   "metadata": {},
   "outputs": [],
   "source": [
    "store.delete([\"2\"])"
   ]
  },
  {
   "cell_type": "code",
   "execution_count": null,
   "id": "7fddd19c",
   "metadata": {},
   "outputs": [],
   "source": [
    "store.count()"
   ]
  },
  {
   "cell_type": "code",
   "execution_count": null,
   "id": "ee3dd0c3",
   "metadata": {},
   "outputs": [],
   "source": [
    "store.clear()"
   ]
  },
  {
   "cell_type": "code",
   "execution_count": null,
   "id": "20997923",
   "metadata": {},
   "outputs": [],
   "source": [
    "store.count()"
   ]
  }
 ],
 "metadata": {
  "kernelspec": {
   "display_name": "stratadl",
   "language": "python",
   "name": "python3"
  },
  "language_info": {
   "codemirror_mode": {
    "name": "ipython",
    "version": 3
   },
   "file_extension": ".py",
   "mimetype": "text/x-python",
   "name": "python",
   "nbconvert_exporter": "python",
   "pygments_lexer": "ipython3",
   "version": "3.12.10"
  }
 },
 "nbformat": 4,
 "nbformat_minor": 5
}
